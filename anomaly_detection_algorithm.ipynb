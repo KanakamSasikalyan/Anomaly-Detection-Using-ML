{
 "cells": [
  {
   "cell_type": "markdown",
   "id": "f1482422-44c6-4144-8c38-d133cba3bae3",
   "metadata": {},
   "source": [
    "# Anomaly Detection Algorithm using KNN and Isolation Forest Algorithms"
   ]
  },
  {
   "cell_type": "markdown",
   "id": "758fcfa3-d375-4f95-96e1-b621c92986a2",
   "metadata": {
    "jp-MarkdownHeadingCollapsed": true
   },
   "source": [
    "##### anomaly detection is a process of identifying the patterns by continuous learning from the data to detect the suspicious data or any anomalous patterns.this algorithm or system can be implemented by using various machine learning algorithms such as supervised, semi-supervised, unsupervised learning algorithms.and, the use cases for the anomaly detection include fraud detection, cybersecurity, manfacturing and quality control, IT management systems, and retail and e-commerce."
   ]
  },
  {
   "cell_type": "markdown",
   "id": "b7d29df9-de4b-4da0-943b-ea8a554783c0",
   "metadata": {},
   "source": [
    "### Import the necessary libraries, including pandas, numpy, matplotlib, seaborn, sklearn etc."
   ]
  },
  {
   "cell_type": "code",
   "execution_count": 15,
   "id": "d6795700-345a-4696-931e-81883dfab8ed",
   "metadata": {},
   "outputs": [],
   "source": [
    "# Importing necessary libraries\n",
    "\n",
    "import pandas as pd\n",
    "import numpy as np\n",
    "import matplotlib.pyplot as plt\n",
    "import seaborn as sns\n",
    "from sklearn.neighbors import KNeighborsClassifier\n",
    "from sklearn.ensemble import IsolationForest\n",
    "from sklearn.preprocessing import StandardScaler\n",
    "from sklearn.model_selection import train_test_split\n",
    "from sklearn.metrics import classification_report, confusion_matrix, precision_score, recall_score, f1_score\n",
    "\n",
    "# sea born style for plotting\n",
    "sns.set_style('darkgrid')"
   ]
  },
  {
   "cell_type": "markdown",
   "id": "cfb118b3-4e08-42d0-89b8-acc533efb0fa",
   "metadata": {},
   "source": [
    "## Load and Explore the Dataset"
   ]
  },
  {
   "cell_type": "markdown",
   "id": "e68835aa-e6c0-456d-8cf0-19a104e97440",
   "metadata": {},
   "source": [
    "### Load the dataset from the CSV file and perform initial exploration such as checking null values, datatypes, and basic statistics."
   ]
  },
  {
   "cell_type": "code",
   "execution_count": 16,
   "id": "2f555903-e987-42cc-8b23-31f08d44a010",
   "metadata": {},
   "outputs": [],
   "source": [
    "# Load and Explore the dataset\n",
    "\n",
    "# Load the data from the network_anomaly_dataset.csv file\n",
    "df = pd.read_csv(\"C:/Users/Bhavyasree/Downloads/KalyanRepository/network_anomaly_dataset.csv\", header=None, low_memory=False)"
   ]
  },
  {
   "cell_type": "code",
   "execution_count": 17,
   "id": "091e49ea-45e5-43ba-80d1-7f8c4fa0af79",
   "metadata": {},
   "outputs": [
    {
     "name": "stdout",
     "output_type": "stream",
     "text": [
      "         0             1         2     3         4         5     6   \\\n",
      "0  duration  protocoltype   service  flag  srcbytes  dstbytes  land   \n",
      "1         0           tcp  ftp_data    SF       491         0     0   \n",
      "2         0           udp     other    SF       146         0     0   \n",
      "3         0           tcp   private    S0         0         0     0   \n",
      "4         0           tcp      http    SF       232      8153     0   \n",
      "\n",
      "              7       8    9   ...                  33                  34  \\\n",
      "0  wrongfragment  urgent  hot  ...  dsthostsamesrvrate  dsthostdiffsrvrate   \n",
      "1              0       0    0  ...                0.17                0.03   \n",
      "2              0       0    0  ...                 0.0                 0.6   \n",
      "3              0       0    0  ...                 0.1                0.05   \n",
      "4              0       0    0  ...                 1.0                 0.0   \n",
      "\n",
      "                       35                      36                 37  \\\n",
      "0  dsthostsamesrcportrate  dsthostsrvdiffhostrate  dsthostserrorrate   \n",
      "1                    0.17                     0.0                0.0   \n",
      "2                    0.88                     0.0                0.0   \n",
      "3                     0.0                     0.0                1.0   \n",
      "4                    0.03                    0.04               0.03   \n",
      "\n",
      "                     38                 39                    40       41  \\\n",
      "0  dsthostsrvserrorrate  dsthostrerrorrate  dsthostsrvrerrorrate   attack   \n",
      "1                   0.0               0.05                   0.0   normal   \n",
      "2                   0.0                0.0                   0.0   normal   \n",
      "3                   1.0                0.0                   0.0  neptune   \n",
      "4                  0.01                0.0                  0.01   normal   \n",
      "\n",
      "         42  \n",
      "0  lastflag  \n",
      "1        20  \n",
      "2        15  \n",
      "3        19  \n",
      "4        21  \n",
      "\n",
      "[5 rows x 43 columns]\n"
     ]
    }
   ],
   "source": [
    "# print the first few rows of the uploaded dataset\n",
    "print(df.head())"
   ]
  },
  {
   "cell_type": "markdown",
   "id": "9007f763-11a0-47c4-8570-d04093e9eaf7",
   "metadata": {},
   "source": [
    "## Preprocess the Data"
   ]
  },
  {
   "cell_type": "markdown",
   "id": "3b39cb19-18b5-44c3-917e-f508cfb27f27",
   "metadata": {},
   "source": [
    "### Handle the missing values, encoding categorical variables, and split the data into features and labels."
   ]
  },
  {
   "cell_type": "code",
   "execution_count": 18,
   "id": "fbc33aa8-2d13-4b85-8d87-d6b0d20429bb",
   "metadata": {},
   "outputs": [],
   "source": [
    "df = df.sample(frac=0.2, random_state=42)  # Use 60% of the data"
   ]
  },
  {
   "cell_type": "code",
   "execution_count": 19,
   "id": "9c489ef5-3329-43ab-80ed-15a1437649f2",
   "metadata": {},
   "outputs": [
    {
     "name": "stdout",
     "output_type": "stream",
     "text": [
      "Null values in each column:\n",
      " 0     0\n",
      "1     0\n",
      "2     0\n",
      "3     0\n",
      "4     0\n",
      "5     0\n",
      "6     0\n",
      "7     0\n",
      "8     0\n",
      "9     0\n",
      "10    0\n",
      "11    0\n",
      "12    0\n",
      "13    0\n",
      "14    0\n",
      "15    0\n",
      "16    0\n",
      "17    0\n",
      "18    0\n",
      "19    0\n",
      "20    0\n",
      "21    0\n",
      "22    0\n",
      "23    0\n",
      "24    0\n",
      "25    0\n",
      "26    0\n",
      "27    0\n",
      "28    0\n",
      "29    0\n",
      "30    0\n",
      "31    0\n",
      "32    0\n",
      "33    0\n",
      "34    0\n",
      "35    0\n",
      "36    0\n",
      "37    0\n",
      "38    0\n",
      "39    0\n",
      "40    0\n",
      "41    0\n",
      "42    0\n",
      "dtype: int64\n"
     ]
    }
   ],
   "source": [
    "# Check for null values in the dataset\n",
    "null_values = df.isnull().sum()\n",
    "print(\"Null values in each column:\\n\", null_values)"
   ]
  },
  {
   "cell_type": "code",
   "execution_count": 20,
   "id": "799bb4f6-ed54-4fcb-83fc-53213872a7e7",
   "metadata": {},
   "outputs": [
    {
     "name": "stdout",
     "output_type": "stream",
     "text": [
      "Data type of each column:\n",
      " 0     object\n",
      "1     object\n",
      "2     object\n",
      "3     object\n",
      "4     object\n",
      "5     object\n",
      "6     object\n",
      "7     object\n",
      "8     object\n",
      "9     object\n",
      "10    object\n",
      "11    object\n",
      "12    object\n",
      "13    object\n",
      "14    object\n",
      "15    object\n",
      "16    object\n",
      "17    object\n",
      "18    object\n",
      "19    object\n",
      "20    object\n",
      "21    object\n",
      "22    object\n",
      "23    object\n",
      "24    object\n",
      "25    object\n",
      "26    object\n",
      "27    object\n",
      "28    object\n",
      "29    object\n",
      "30    object\n",
      "31    object\n",
      "32    object\n",
      "33    object\n",
      "34    object\n",
      "35    object\n",
      "36    object\n",
      "37    object\n",
      "38    object\n",
      "39    object\n",
      "40    object\n",
      "41    object\n",
      "42    object\n",
      "dtype: object\n"
     ]
    }
   ],
   "source": [
    "# Check the data type of each column\n",
    "data_type = df.dtypes\n",
    "print(\"Data type of each column:\\n\", data_type)"
   ]
  },
  {
   "cell_type": "code",
   "execution_count": 21,
   "id": "6f938bd6-8d75-42ea-a2b7-90ce6c54240a",
   "metadata": {},
   "outputs": [
    {
     "name": "stdout",
     "output_type": "stream",
     "text": [
      "Basic statistics of the data:\n",
      "            0      1      2      3      4      5      6      7      8      9   \\\n",
      "count   25195  25195  25195  25195  25195  25195  25195  25195  25195  25195   \n",
      "unique    741      4     66     12   1638   3928      3      4      2     18   \n",
      "top         0    tcp   http     SF      0      0      0      0      0      0   \n",
      "freq    23244  20555   8183  15085   9774  13531  25190  24979  25194  24679   \n",
      "\n",
      "        ...     33     34     35     36     37     38     39     40      41  \\\n",
      "count   ...  25195  25195  25195  25195  25195  25195  25195  25195   25195   \n",
      "unique  ...    102    102    102     63    100     87    102     97      23   \n",
      "top     ...    1.0    0.0    0.0    0.0    0.0    0.0    0.0    0.0  normal   \n",
      "freq    ...   9891   9497  12528  17362  16334  17131  20686  21389   13483   \n",
      "\n",
      "           42  \n",
      "count   25195  \n",
      "unique     23  \n",
      "top        21  \n",
      "freq    12512  \n",
      "\n",
      "[4 rows x 43 columns]\n"
     ]
    }
   ],
   "source": [
    "# Displaying basic statistics of the data\n",
    "basic_stats = df.describe()\n",
    "print(\"Basic statistics of the data:\\n\", basic_stats)"
   ]
  },
  {
   "cell_type": "code",
   "execution_count": 22,
   "id": "07a38664-865b-4798-94f8-6e058c929a0d",
   "metadata": {},
   "outputs": [
    {
     "data": {
      "image/png": "[encoded data removed]",
      "text/plain": [
       "<Figure size 1000x600 with 1 Axes>"
      ]
     },
     "metadata": {},
     "output_type": "display_data"
    }
   ],
   "source": [
    "# Visualizing the distribution of the target variable , here we are assuming the last column as target.\n",
    "plt.figure(figsize=(10, 6))\n",
    "sns.countplot(x=df.iloc[:, -1])\n",
    "plt.xlabel('Target Variable')\n",
    "plt.ylabel('Count')\n",
    "plt.title('Distribution of Target Variable')\n",
    "plt.show()"
   ]
  },
  {
   "cell_type": "code",
   "execution_count": 23,
   "id": "a2c6c848-49d1-40ae-a5ec-d144e09541b0",
   "metadata": {},
   "outputs": [],
   "source": [
    "# Preprocess the data\n",
    "\n",
    "# Handle missing values if any found\n",
    "# Impute numerical features with their median\n",
    "for col in df.select_dtypes(include=np.number):\n",
    "    df[col] = df[col].fillna(df[col].median())\n",
    "\n",
    "for col in df.select_dtypes(include=['object']):\n",
    "    df[col] = df[col].fillna(df[col].mode()[0])  \n",
    "# Encode the categeorical variables using one-hot encoding technique\n",
    "df_encoded = pd.get_dummies(df, drop_first=True)\n",
    "\n",
    "# Split the data into features and labels\n",
    "X = df_encoded.iloc[:, :-1]\n",
    "y = df_encoded.iloc[:, -1]"
   ]
  },
  {
   "cell_type": "code",
   "execution_count": 24,
   "id": "c87828a5-4b71-4a2c-a876-4039eefe1abc",
   "metadata": {},
   "outputs": [],
   "source": [
    "# Split the data into training and testing data sets\n",
    "X_train, X_test, y_train, y_test = train_test_split(X, y, test_size=0.3, random_state=42)\n",
    "\n",
    "# Standardize features\n",
    "scaler = StandardScaler()\n",
    "X_train_scaled = scaler.fit_transform(X_train)\n",
    "X_test_scaled = scaler.transform(X_test)"
   ]
  },
  {
   "cell_type": "code",
   "execution_count": 25,
   "id": "08cff9d7-8c6f-4962-adab-434a1e3bf25e",
   "metadata": {},
   "outputs": [
    {
     "name": "stdout",
     "output_type": "stream",
     "text": [
      "Shape of X_train: (17636, 9158)\n",
      "Shape of X_test: (7559, 9158)\n",
      "Shape of y_train: (17636,)\n",
      "Shape of y_test: (7559,)\n"
     ]
    }
   ],
   "source": [
    "# Pring the shapes of the training and testing sets\n",
    "print(\"Shape of X_train:\", X_train.shape)\n",
    "print(\"Shape of X_test:\", X_test.shape)\n",
    "print(\"Shape of y_train:\", y_train.shape)\n",
    "print(\"Shape of y_test:\", y_test.shape)"
   ]
  },
  {
   "cell_type": "markdown",
   "id": "12b9809f-68e6-47d7-886b-7fb8841979cb",
   "metadata": {},
   "source": [
    "## Feature Scaling"
   ]
  },
  {
   "cell_type": "markdown",
   "id": "9d6f26bc-5881-4829-a98b-fa8548daef1f",
   "metadata": {},
   "source": [
    "### Scale the features using StandardScaler or MinMaxScaler to normalize the data"
   ]
  },
  {
   "cell_type": "code",
   "execution_count": 26,
   "id": "6e13debb-5556-4d8f-98f7-b9ff9ce6559b",
   "metadata": {},
   "outputs": [],
   "source": [
    "#Feature Scaling\n",
    "\n",
    "# Standardize the features using StandardScalar\n",
    "scaler = StandardScaler()\n",
    "X_train_scaled = scaler.fit_transform(X_train)\n",
    "X_test_scaled = scaler.transform(X_test)"
   ]
  },
  {
   "cell_type": "code",
   "execution_count": 27,
   "id": "2f8c1ac9-bb5c-4de5-93d2-96d0b25058da",
   "metadata": {},
   "outputs": [
    {
     "name": "stdout",
     "output_type": "stream",
     "text": [
      "First Few Rows of scaled training data: \n",
      "        0         1        2        3        4        5     6        7     \\\n",
      "0 -0.125392 -0.033695 -0.00753 -0.00753 -0.00753 -0.00753   0.0 -0.00753   \n",
      "1 -0.125392 -0.033695 -0.00753 -0.00753 -0.00753 -0.00753   0.0 -0.00753   \n",
      "2 -0.125392 -0.033695 -0.00753 -0.00753 -0.00753 -0.00753   0.0 -0.00753   \n",
      "3 -0.125392 -0.033695 -0.00753 -0.00753 -0.00753 -0.00753   0.0 -0.00753   \n",
      "4 -0.125392 -0.033695 -0.00753 -0.00753 -0.00753 -0.00753   0.0 -0.00753   \n",
      "\n",
      "      8        9     ...      9148      9149      9150      9151      9152  \\\n",
      "0 -0.00753 -0.00753  ... -0.029176 -0.419299 -0.992093 -0.019927 -0.031062   \n",
      "1 -0.00753 -0.00753  ... -0.029176 -0.419299 -0.992093 -0.019927 -0.031062   \n",
      "2 -0.00753 -0.00753  ... -0.029176 -0.419299 -0.992093 -0.019927 -0.031062   \n",
      "3 -0.00753 -0.00753  ... -0.029176 -0.419299 -0.992093 -0.019927 -0.031062   \n",
      "4 -0.00753 -0.00753  ... -0.029176 -0.419299  1.007970 -0.019927 -0.031062   \n",
      "\n",
      "       9153      9154      9155      9156      9157  \n",
      "0 -0.031062 -0.030134 -0.023819 -0.030134 -0.042635  \n",
      "1 -0.031062 -0.030134 -0.023819 -0.030134 -0.042635  \n",
      "2 -0.031062 -0.030134 -0.023819 -0.030134 -0.042635  \n",
      "3 -0.031062 -0.030134 -0.023819 -0.030134 -0.042635  \n",
      "4 -0.031062 -0.030134 -0.023819 -0.030134 -0.042635  \n",
      "\n",
      "[5 rows x 9158 columns]\n"
     ]
    }
   ],
   "source": [
    "# Print first few rows of scaled training data\n",
    "print(\"First Few Rows of scaled training data: \\n\", pd.DataFrame(X_train_scaled).head())"
   ]
  },
  {
   "cell_type": "code",
   "execution_count": 28,
   "id": "c78786b5-2e45-432a-ab45-87b1cb9332ed",
   "metadata": {},
   "outputs": [
    {
     "name": "stdout",
     "output_type": "stream",
     "text": [
      "First few Rows of scaled test data: \n",
      "        0         1        2        3        4        5     6        7     \\\n",
      "0 -0.125392 -0.033695 -0.00753 -0.00753 -0.00753 -0.00753   0.0 -0.00753   \n",
      "1 -0.125392 -0.033695 -0.00753 -0.00753 -0.00753 -0.00753   0.0 -0.00753   \n",
      "2 -0.125392 -0.033695 -0.00753 -0.00753 -0.00753 -0.00753   0.0 -0.00753   \n",
      "3 -0.125392 -0.033695 -0.00753 -0.00753 -0.00753 -0.00753   0.0 -0.00753   \n",
      "4 -0.125392 -0.033695 -0.00753 -0.00753 -0.00753 -0.00753   0.0 -0.00753   \n",
      "\n",
      "      8        9     ...      9148      9149      9150      9151      9152  \\\n",
      "0 -0.00753 -0.00753  ... -0.029176 -0.419299  1.007970 -0.019927 -0.031062   \n",
      "1 -0.00753 -0.00753  ... -0.029176 -0.419299  1.007970 -0.019927 -0.031062   \n",
      "2 -0.00753 -0.00753  ... -0.029176  2.384932 -0.992093 -0.019927 -0.031062   \n",
      "3 -0.00753 -0.00753  ... -0.029176 -0.419299  1.007970 -0.019927 -0.031062   \n",
      "4 -0.00753 -0.00753  ... -0.029176 -0.419299 -0.992093 -0.019927 -0.031062   \n",
      "\n",
      "       9153      9154      9155      9156      9157  \n",
      "0 -0.031062 -0.030134 -0.023819 -0.030134 -0.042635  \n",
      "1 -0.031062 -0.030134 -0.023819 -0.030134 -0.042635  \n",
      "2 -0.031062 -0.030134 -0.023819 -0.030134 -0.042635  \n",
      "3 -0.031062 -0.030134 -0.023819 -0.030134 -0.042635  \n",
      "4 -0.031062 -0.030134 -0.023819 -0.030134 -0.042635  \n",
      "\n",
      "[5 rows x 9158 columns]\n"
     ]
    }
   ],
   "source": [
    "# Print first few rows of scaled test data\n",
    "print(\"First few Rows of scaled test data: \\n\", pd.DataFrame(X_test_scaled).head())"
   ]
  },
  {
   "cell_type": "markdown",
   "id": "aaaab8fd-931a-4bfb-ab4d-d296182a09a8",
   "metadata": {},
   "source": [
    "## KNN For Anomaly Detection"
   ]
  },
  {
   "cell_type": "markdown",
   "id": "da455fbf-2df0-4e00-813b-5696aaccdf36",
   "metadata": {},
   "source": [
    "### Here We are implementing KNN Algorithm to detect anomalies."
   ]
  },
  {
   "cell_type": "code",
   "execution_count": 29,
   "id": "fd14a586-606a-45ed-8db2-e5e6b3899c7c",
   "metadata": {},
   "outputs": [],
   "source": [
    "# KNN for anomaly detection\n",
    "# Train KNN model\n",
    "\n",
    "knn = KNeighborsClassifier(n_neighbors=5)\n",
    "knn.fit(X_train_scaled, y_train)\n",
    "\n",
    "# Predict on the test set\n",
    "y_pred_knn = knn.predict(X_test_scaled)"
   ]
  },
  {
   "cell_type": "code",
   "execution_count": 30,
   "id": "2d62ee72-669a-46a8-9110-5423853ec232",
   "metadata": {},
   "outputs": [],
   "source": [
    "# Evaluate the model\n",
    "labels = [0, 1]\n",
    "conf_matrix_knn = confusion_matrix(y_test, y_pred_knn, labels=labels)\n",
    "class_report_knn = classification_report(y_test, y_pred_knn, zero_division=1)\n",
    "f1_knn = f1_score(y_test, y_pred_knn, average = 'weighted')\n",
    "precision_knn = precision_score(y_test, y_pred_knn, average = 'weighted', zero_division=1)\n",
    "recallscore_knn = recall_score(y_test, y_pred_knn, average = 'weighted')"
   ]
  },
  {
   "cell_type": "code",
   "execution_count": 31,
   "id": "f2718e47-faa9-4d73-87b4-d90b5f040e22",
   "metadata": {},
   "outputs": [
    {
     "name": "stdout",
     "output_type": "stream",
     "text": [
      "Confusion Matrix for KNN: \n",
      " [[7559    0]\n",
      " [   0    0]]\n",
      "\n",
      "Classification Report for KNN:\n",
      "               precision    recall  f1-score   support\n",
      "\n",
      "       False       1.00      1.00      1.00      7559\n",
      "\n",
      "    accuracy                           1.00      7559\n",
      "   macro avg       1.00      1.00      1.00      7559\n",
      "weighted avg       1.00      1.00      1.00      7559\n",
      "\n",
      "F1 Score for KNN:  1.0\n",
      "Precision for KNN:  <function precision_score at 0x0000022162ABBF60>\n",
      "Recall for KNN:  1.0\n"
     ]
    }
   ],
   "source": [
    "# printing evaluation metrics\n",
    "print(\"Confusion Matrix for KNN: \\n\", conf_matrix_knn)\n",
    "print(\"\\nClassification Report for KNN:\\n\", class_report_knn)\n",
    "print(\"F1 Score for KNN: \", f1_knn)\n",
    "print(\"Precision for KNN: \", precision_score)\n",
    "print(\"Recall for KNN: \", recallscore_knn)"
   ]
  },
  {
   "cell_type": "code",
   "execution_count": 32,
   "id": "be70481a-2bf8-48f4-a165-8fb6261679af",
   "metadata": {},
   "outputs": [
    {
     "data": {
      "image/png": "[encoded data removed]",
      "text/plain": [
       "<Figure size 1000x600 with 2 Axes>"
      ]
     },
     "metadata": {},
     "output_type": "display_data"
    }
   ],
   "source": [
    "# Visialize the confusion matrix\n",
    "plt.figure(figsize=(10, 6))\n",
    "sns.heatmap(conf_matrix_knn, annot=True, fmt='d', cmap='Blues')\n",
    "plt.title('Confusion Matrix for KNN')\n",
    "plt.xlabel('Predicted')\n",
    "plt.ylabel('Actual')\n",
    "plt.show()"
   ]
  },
  {
   "cell_type": "markdown",
   "id": "83bece9d-4972-449f-9997-1cc8ef211ed5",
   "metadata": {},
   "source": [
    "## Isolation Forest for Anomaly Detection"
   ]
  },
  {
   "cell_type": "code",
   "execution_count": 33,
   "id": "87f7112d-87ba-4c3f-b761-54a7dcfb837b",
   "metadata": {},
   "outputs": [
    {
     "data": {
      "text/html": [
       "<style>#sk-container-id-1 {\n",
       "  /* Definition of color scheme common for light and dark mode */\n",
       "  --sklearn-color-text: black;\n",
       "  --sklearn-color-line: gray;\n",
       "  /* Definition of color scheme for unfitted estimators */\n",
       "  --sklearn-color-unfitted-level-0: #fff5e6;\n",
       "  --sklearn-color-unfitted-level-1: #f6e4d2;\n",
       "  --sklearn-color-unfitted-level-2: #ffe0b3;\n",
       "  --sklearn-color-unfitted-level-3: chocolate;\n",
       "  /* Definition of color scheme for fitted estimators */\n",
       "  --sklearn-color-fitted-level-0: #f0f8ff;\n",
       "  --sklearn-color-fitted-level-1: #d4ebff;\n",
       "  --sklearn-color-fitted-level-2: #b3dbfd;\n",
       "  --sklearn-color-fitted-level-3: cornflowerblue;\n",
       "\n",
       "  /* Specific color for light theme */\n",
       "  --sklearn-color-text-on-default-background: var(--sg-text-color, var(--theme-code-foreground, var(--jp-content-font-color1, black)));\n",
       "  --sklearn-color-background: var(--sg-background-color, var(--theme-background, var(--jp-layout-color0, white)));\n",
       "  --sklearn-color-border-box: var(--sg-text-color, var(--theme-code-foreground, var(--jp-content-font-color1, black)));\n",
       "  --sklearn-color-icon: #696969;\n",
       "\n",
       "  @media (prefers-color-scheme: dark) {\n",
       "    /* Redefinition of color scheme for dark theme */\n",
       "    --sklearn-color-text-on-default-background: var(--sg-text-color, var(--theme-code-foreground, var(--jp-content-font-color1, white)));\n",
       "    --sklearn-color-background: var(--sg-background-color, var(--theme-background, var(--jp-layout-color0, #111)));\n",
       "    --sklearn-color-border-box: var(--sg-text-color, var(--theme-code-foreground, var(--jp-content-font-color1, white)));\n",
       "    --sklearn-color-icon: #878787;\n",
       "  }\n",
       "}\n",
       "\n",
       "#sk-container-id-1 {\n",
       "  color: var(--sklearn-color-text);\n",
       "}\n",
       "\n",
       "#sk-container-id-1 pre {\n",
       "  padding: 0;\n",
       "}\n",
       "\n",
       "#sk-container-id-1 input.sk-hidden--visually {\n",
       "  border: 0;\n",
       "  clip: rect(1px 1px 1px 1px);\n",
       "  clip: rect(1px, 1px, 1px, 1px);\n",
       "  height: 1px;\n",
       "  margin: -1px;\n",
       "  overflow: hidden;\n",
       "  padding: 0;\n",
       "  position: absolute;\n",
       "  width: 1px;\n",
       "}\n",
       "\n",
       "#sk-container-id-1 div.sk-dashed-wrapped {\n",
       "  border: 1px dashed var(--sklearn-color-line);\n",
       "  margin: 0 0.4em 0.5em 0.4em;\n",
       "  box-sizing: border-box;\n",
       "  padding-bottom: 0.4em;\n",
       "  background-color: var(--sklearn-color-background);\n",
       "}\n",
       "\n",
       "#sk-container-id-1 div.sk-container {\n",
       "  /* jupyter's `normalize.less` sets `[hidden] { display: none; }`\n",
       "     but bootstrap.min.css set `[hidden] { display: none !important; }`\n",
       "     so we also need the `!important` here to be able to override the\n",
       "     default hidden behavior on the sphinx rendered scikit-learn.org.\n",
       "     See: https://github.com/scikit-learn/scikit-learn/issues/21755 */\n",
       "  display: inline-block !important;\n",
       "  position: relative;\n",
       "}\n",
       "\n",
       "#sk-container-id-1 div.sk-text-repr-fallback {\n",
       "  display: none;\n",
       "}\n",
       "\n",
       "div.sk-parallel-item,\n",
       "div.sk-serial,\n",
       "div.sk-item {\n",
       "  /* draw centered vertical line to link estimators */\n",
       "  background-image: linear-gradient(var(--sklearn-color-text-on-default-background), var(--sklearn-color-text-on-default-background));\n",
       "  background-size: 2px 100%;\n",
       "  background-repeat: no-repeat;\n",
       "  background-position: center center;\n",
       "}\n",
       "\n",
       "/* Parallel-specific style estimator block */\n",
       "\n",
       "#sk-container-id-1 div.sk-parallel-item::after {\n",
       "  content: \"\";\n",
       "  width: 100%;\n",
       "  border-bottom: 2px solid var(--sklearn-color-text-on-default-background);\n",
       "  flex-grow: 1;\n",
       "}\n",
       "\n",
       "#sk-container-id-1 div.sk-parallel {\n",
       "  display: flex;\n",
       "  align-items: stretch;\n",
       "  justify-content: center;\n",
       "  background-color: var(--sklearn-color-background);\n",
       "  position: relative;\n",
       "}\n",
       "\n",
       "#sk-container-id-1 div.sk-parallel-item {\n",
       "  display: flex;\n",
       "  flex-direction: column;\n",
       "}\n",
       "\n",
       "#sk-container-id-1 div.sk-parallel-item:first-child::after {\n",
       "  align-self: flex-end;\n",
       "  width: 50%;\n",
       "}\n",
       "\n",
       "#sk-container-id-1 div.sk-parallel-item:last-child::after {\n",
       "  align-self: flex-start;\n",
       "  width: 50%;\n",
       "}\n",
       "\n",
       "#sk-container-id-1 div.sk-parallel-item:only-child::after {\n",
       "  width: 0;\n",
       "}\n",
       "\n",
       "/* Serial-specific style estimator block */\n",
       "\n",
       "#sk-container-id-1 div.sk-serial {\n",
       "  display: flex;\n",
       "  flex-direction: column;\n",
       "  align-items: center;\n",
       "  background-color: var(--sklearn-color-background);\n",
       "  padding-right: 1em;\n",
       "  padding-left: 1em;\n",
       "}\n",
       "\n",
       "\n",
       "/* Toggleable style: style used for estimator/Pipeline/ColumnTransformer box that is\n",
       "clickable and can be expanded/collapsed.\n",
       "- Pipeline and ColumnTransformer use this feature and define the default style\n",
       "- Estimators will overwrite some part of the style using the `sk-estimator` class\n",
       "*/\n",
       "\n",
       "/* Pipeline and ColumnTransformer style (default) */\n",
       "\n",
       "#sk-container-id-1 div.sk-toggleable {\n",
       "  /* Default theme specific background. It is overwritten whether we have a\n",
       "  specific estimator or a Pipeline/ColumnTransformer */\n",
       "  background-color: var(--sklearn-color-background);\n",
       "}\n",
       "\n",
       "/* Toggleable label */\n",
       "#sk-container-id-1 label.sk-toggleable__label {\n",
       "  cursor: pointer;\n",
       "  display: block;\n",
       "  width: 100%;\n",
       "  margin-bottom: 0;\n",
       "  padding: 0.5em;\n",
       "  box-sizing: border-box;\n",
       "  text-align: center;\n",
       "}\n",
       "\n",
       "#sk-container-id-1 label.sk-toggleable__label-arrow:before {\n",
       "  /* Arrow on the left of the label */\n",
       "  content: \"▸\";\n",
       "  float: left;\n",
       "  margin-right: 0.25em;\n",
       "  color: var(--sklearn-color-icon);\n",
       "}\n",
       "\n",
       "#sk-container-id-1 label.sk-toggleable__label-arrow:hover:before {\n",
       "  color: var(--sklearn-color-text);\n",
       "}\n",
       "\n",
       "/* Toggleable content - dropdown */\n",
       "\n",
       "#sk-container-id-1 div.sk-toggleable__content {\n",
       "  max-height: 0;\n",
       "  max-width: 0;\n",
       "  overflow: hidden;\n",
       "  text-align: left;\n",
       "  /* unfitted */\n",
       "  background-color: var(--sklearn-color-unfitted-level-0);\n",
       "}\n",
       "\n",
       "#sk-container-id-1 div.sk-toggleable__content.fitted {\n",
       "  /* fitted */\n",
       "  background-color: var(--sklearn-color-fitted-level-0);\n",
       "}\n",
       "\n",
       "#sk-container-id-1 div.sk-toggleable__content pre {\n",
       "  margin: 0.2em;\n",
       "  border-radius: 0.25em;\n",
       "  color: var(--sklearn-color-text);\n",
       "  /* unfitted */\n",
       "  background-color: var(--sklearn-color-unfitted-level-0);\n",
       "}\n",
       "\n",
       "#sk-container-id-1 div.sk-toggleable__content.fitted pre {\n",
       "  /* unfitted */\n",
       "  background-color: var(--sklearn-color-fitted-level-0);\n",
       "}\n",
       "\n",
       "#sk-container-id-1 input.sk-toggleable__control:checked~div.sk-toggleable__content {\n",
       "  /* Expand drop-down */\n",
       "  max-height: 200px;\n",
       "  max-width: 100%;\n",
       "  overflow: auto;\n",
       "}\n",
       "\n",
       "#sk-container-id-1 input.sk-toggleable__control:checked~label.sk-toggleable__label-arrow:before {\n",
       "  content: \"▾\";\n",
       "}\n",
       "\n",
       "/* Pipeline/ColumnTransformer-specific style */\n",
       "\n",
       "#sk-container-id-1 div.sk-label input.sk-toggleable__control:checked~label.sk-toggleable__label {\n",
       "  color: var(--sklearn-color-text);\n",
       "  background-color: var(--sklearn-color-unfitted-level-2);\n",
       "}\n",
       "\n",
       "#sk-container-id-1 div.sk-label.fitted input.sk-toggleable__control:checked~label.sk-toggleable__label {\n",
       "  background-color: var(--sklearn-color-fitted-level-2);\n",
       "}\n",
       "\n",
       "/* Estimator-specific style */\n",
       "\n",
       "/* Colorize estimator box */\n",
       "#sk-container-id-1 div.sk-estimator input.sk-toggleable__control:checked~label.sk-toggleable__label {\n",
       "  /* unfitted */\n",
       "  background-color: var(--sklearn-color-unfitted-level-2);\n",
       "}\n",
       "\n",
       "#sk-container-id-1 div.sk-estimator.fitted input.sk-toggleable__control:checked~label.sk-toggleable__label {\n",
       "  /* fitted */\n",
       "  background-color: var(--sklearn-color-fitted-level-2);\n",
       "}\n",
       "\n",
       "#sk-container-id-1 div.sk-label label.sk-toggleable__label,\n",
       "#sk-container-id-1 div.sk-label label {\n",
       "  /* The background is the default theme color */\n",
       "  color: var(--sklearn-color-text-on-default-background);\n",
       "}\n",
       "\n",
       "/* On hover, darken the color of the background */\n",
       "#sk-container-id-1 div.sk-label:hover label.sk-toggleable__label {\n",
       "  color: var(--sklearn-color-text);\n",
       "  background-color: var(--sklearn-color-unfitted-level-2);\n",
       "}\n",
       "\n",
       "/* Label box, darken color on hover, fitted */\n",
       "#sk-container-id-1 div.sk-label.fitted:hover label.sk-toggleable__label.fitted {\n",
       "  color: var(--sklearn-color-text);\n",
       "  background-color: var(--sklearn-color-fitted-level-2);\n",
       "}\n",
       "\n",
       "/* Estimator label */\n",
       "\n",
       "#sk-container-id-1 div.sk-label label {\n",
       "  font-family: monospace;\n",
       "  font-weight: bold;\n",
       "  display: inline-block;\n",
       "  line-height: 1.2em;\n",
       "}\n",
       "\n",
       "#sk-container-id-1 div.sk-label-container {\n",
       "  text-align: center;\n",
       "}\n",
       "\n",
       "/* Estimator-specific */\n",
       "#sk-container-id-1 div.sk-estimator {\n",
       "  font-family: monospace;\n",
       "  border: 1px dotted var(--sklearn-color-border-box);\n",
       "  border-radius: 0.25em;\n",
       "  box-sizing: border-box;\n",
       "  margin-bottom: 0.5em;\n",
       "  /* unfitted */\n",
       "  background-color: var(--sklearn-color-unfitted-level-0);\n",
       "}\n",
       "\n",
       "#sk-container-id-1 div.sk-estimator.fitted {\n",
       "  /* fitted */\n",
       "  background-color: var(--sklearn-color-fitted-level-0);\n",
       "}\n",
       "\n",
       "/* on hover */\n",
       "#sk-container-id-1 div.sk-estimator:hover {\n",
       "  /* unfitted */\n",
       "  background-color: var(--sklearn-color-unfitted-level-2);\n",
       "}\n",
       "\n",
       "#sk-container-id-1 div.sk-estimator.fitted:hover {\n",
       "  /* fitted */\n",
       "  background-color: var(--sklearn-color-fitted-level-2);\n",
       "}\n",
       "\n",
       "/* Specification for estimator info (e.g. \"i\" and \"?\") */\n",
       "\n",
       "/* Common style for \"i\" and \"?\" */\n",
       "\n",
       ".sk-estimator-doc-link,\n",
       "a:link.sk-estimator-doc-link,\n",
       "a:visited.sk-estimator-doc-link {\n",
       "  float: right;\n",
       "  font-size: smaller;\n",
       "  line-height: 1em;\n",
       "  font-family: monospace;\n",
       "  background-color: var(--sklearn-color-background);\n",
       "  border-radius: 1em;\n",
       "  height: 1em;\n",
       "  width: 1em;\n",
       "  text-decoration: none !important;\n",
       "  margin-left: 1ex;\n",
       "  /* unfitted */\n",
       "  border: var(--sklearn-color-unfitted-level-1) 1pt solid;\n",
       "  color: var(--sklearn-color-unfitted-level-1);\n",
       "}\n",
       "\n",
       ".sk-estimator-doc-link.fitted,\n",
       "a:link.sk-estimator-doc-link.fitted,\n",
       "a:visited.sk-estimator-doc-link.fitted {\n",
       "  /* fitted */\n",
       "  border: var(--sklearn-color-fitted-level-1) 1pt solid;\n",
       "  color: var(--sklearn-color-fitted-level-1);\n",
       "}\n",
       "\n",
       "/* On hover */\n",
       "div.sk-estimator:hover .sk-estimator-doc-link:hover,\n",
       ".sk-estimator-doc-link:hover,\n",
       "div.sk-label-container:hover .sk-estimator-doc-link:hover,\n",
       ".sk-estimator-doc-link:hover {\n",
       "  /* unfitted */\n",
       "  background-color: var(--sklearn-color-unfitted-level-3);\n",
       "  color: var(--sklearn-color-background);\n",
       "  text-decoration: none;\n",
       "}\n",
       "\n",
       "div.sk-estimator.fitted:hover .sk-estimator-doc-link.fitted:hover,\n",
       ".sk-estimator-doc-link.fitted:hover,\n",
       "div.sk-label-container:hover .sk-estimator-doc-link.fitted:hover,\n",
       ".sk-estimator-doc-link.fitted:hover {\n",
       "  /* fitted */\n",
       "  background-color: var(--sklearn-color-fitted-level-3);\n",
       "  color: var(--sklearn-color-background);\n",
       "  text-decoration: none;\n",
       "}\n",
       "\n",
       "/* Span, style for the box shown on hovering the info icon */\n",
       ".sk-estimator-doc-link span {\n",
       "  display: none;\n",
       "  z-index: 9999;\n",
       "  position: relative;\n",
       "  font-weight: normal;\n",
       "  right: .2ex;\n",
       "  padding: .5ex;\n",
       "  margin: .5ex;\n",
       "  width: min-content;\n",
       "  min-width: 20ex;\n",
       "  max-width: 50ex;\n",
       "  color: var(--sklearn-color-text);\n",
       "  box-shadow: 2pt 2pt 4pt #999;\n",
       "  /* unfitted */\n",
       "  background: var(--sklearn-color-unfitted-level-0);\n",
       "  border: .5pt solid var(--sklearn-color-unfitted-level-3);\n",
       "}\n",
       "\n",
       ".sk-estimator-doc-link.fitted span {\n",
       "  /* fitted */\n",
       "  background: var(--sklearn-color-fitted-level-0);\n",
       "  border: var(--sklearn-color-fitted-level-3);\n",
       "}\n",
       "\n",
       ".sk-estimator-doc-link:hover span {\n",
       "  display: block;\n",
       "}\n",
       "\n",
       "/* \"?\"-specific style due to the `<a>` HTML tag */\n",
       "\n",
       "#sk-container-id-1 a.estimator_doc_link {\n",
       "  float: right;\n",
       "  font-size: 1rem;\n",
       "  line-height: 1em;\n",
       "  font-family: monospace;\n",
       "  background-color: var(--sklearn-color-background);\n",
       "  border-radius: 1rem;\n",
       "  height: 1rem;\n",
       "  width: 1rem;\n",
       "  text-decoration: none;\n",
       "  /* unfitted */\n",
       "  color: var(--sklearn-color-unfitted-level-1);\n",
       "  border: var(--sklearn-color-unfitted-level-1) 1pt solid;\n",
       "}\n",
       "\n",
       "#sk-container-id-1 a.estimator_doc_link.fitted {\n",
       "  /* fitted */\n",
       "  border: var(--sklearn-color-fitted-level-1) 1pt solid;\n",
       "  color: var(--sklearn-color-fitted-level-1);\n",
       "}\n",
       "\n",
       "/* On hover */\n",
       "#sk-container-id-1 a.estimator_doc_link:hover {\n",
       "  /* unfitted */\n",
       "  background-color: var(--sklearn-color-unfitted-level-3);\n",
       "  color: var(--sklearn-color-background);\n",
       "  text-decoration: none;\n",
       "}\n",
       "\n",
       "#sk-container-id-1 a.estimator_doc_link.fitted:hover {\n",
       "  /* fitted */\n",
       "  background-color: var(--sklearn-color-fitted-level-3);\n",
       "}\n",
       "</style><div id=\"sk-container-id-1\" class=\"sk-top-container\"><div class=\"sk-text-repr-fallback\"><pre>IsolationForest(contamination=0.1, random_state=42)</pre><b>In a Jupyter environment, please rerun this cell to show the HTML representation or trust the notebook. <br />On GitHub, the HTML representation is unable to render, please try loading this page with nbviewer.org.</b></div><div class=\"sk-container\" hidden><div class=\"sk-item\"><div class=\"sk-estimator fitted sk-toggleable\"><input class=\"sk-toggleable__control sk-hidden--visually\" id=\"sk-estimator-id-1\" type=\"checkbox\" checked><label for=\"sk-estimator-id-1\" class=\"sk-toggleable__label fitted sk-toggleable__label-arrow fitted\">&nbsp;&nbsp;IsolationForest<a class=\"sk-estimator-doc-link fitted\" rel=\"noreferrer\" target=\"_blank\" href=\"https://scikit-learn.org/1.5/modules/generated/sklearn.ensemble.IsolationForest.html\">?<span>Documentation for IsolationForest</span></a><span class=\"sk-estimator-doc-link fitted\">i<span>Fitted</span></span></label><div class=\"sk-toggleable__content fitted\"><pre>IsolationForest(contamination=0.1, random_state=42)</pre></div> </div></div></div></div>"
      ],
      "text/plain": [
       "IsolationForest(contamination=0.1, random_state=42)"
      ]
     },
     "execution_count": 33,
     "metadata": {},
     "output_type": "execute_result"
    }
   ],
   "source": [
    "# Isolation Forest for Anomaly Detection\n",
    "\n",
    "# Train the Isolation Forest Model\n",
    "\n",
    "iso_forest = IsolationForest(contamination=0.1, random_state=42)\n",
    "iso_forest.fit(X_train_scaled)"
   ]
  },
  {
   "cell_type": "code",
   "execution_count": 34,
   "id": "7e02ebbd-ead8-4af7-b3c0-a412f34f5e80",
   "metadata": {},
   "outputs": [],
   "source": [
    "# Predict on the test set\n",
    "y_pred_iso = iso_forest.predict(X_test_scaled)"
   ]
  },
  {
   "cell_type": "code",
   "execution_count": 35,
   "id": "6ce76b2e-bc33-4fab-907b-cfebc3cdee50",
   "metadata": {},
   "outputs": [],
   "source": [
    "# Convert predictions to binary (1 for normal, -1 for anomaly)\n",
    "y_pred_iso = np.where(y_pred_iso == 1, 0, 1)"
   ]
  },
  {
   "cell_type": "code",
   "execution_count": 36,
   "id": "52bc0e9a-fde9-473e-b807-443cbd7d114e",
   "metadata": {},
   "outputs": [],
   "source": [
    "# Evalute the Model\n",
    "conf_matrix_iso = confusion_matrix(y_test, y_pred_iso)\n",
    "class_report_iso = classification_report(y_test, y_pred_iso, zero_division=1)\n",
    "f1_iso = f1_score(y_test, y_pred_iso, average='weighted')\n",
    "precision_iso = precision_score(y_test, y_pred_iso, average='weighted', zero_division=1)\n",
    "recall_iso = recall_score(y_test, y_pred_iso, average='weighted', zero_division=1)"
   ]
  },
  {
   "cell_type": "code",
   "execution_count": 37,
   "id": "e374ced0-1412-488a-b581-cbc415d4406a",
   "metadata": {},
   "outputs": [
    {
     "name": "stdout",
     "output_type": "stream",
     "text": [
      "Confusion Matrix for Isolation Forest:\n",
      " [[6840  719]\n",
      " [   0    0]]\n",
      "\n",
      "Classification Report for Isolation Forest:\n",
      "               precision    recall  f1-score   support\n",
      "\n",
      "           0       1.00      0.90      0.95      7559\n",
      "           1       0.00      1.00      0.00         0\n",
      "\n",
      "    accuracy                           0.90      7559\n",
      "   macro avg       0.50      0.95      0.48      7559\n",
      "weighted avg       1.00      0.90      0.95      7559\n",
      "\n",
      "F1 Score for Isolation Forest:  0.9500659768039447\n",
      "Precision for Isolation Forest:  1.0\n",
      "Recall for Isolation Forest:  0.9048815980949861\n"
     ]
    }
   ],
   "source": [
    "# Print evaluation metrics\n",
    "print('Confusion Matrix for Isolation Forest:\\n', conf_matrix_iso)\n",
    "print('\\nClassification Report for Isolation Forest:\\n', class_report_iso)\n",
    "print('F1 Score for Isolation Forest: ', f1_iso)\n",
    "print('Precision for Isolation Forest: ', precision_iso)\n",
    "print('Recall for Isolation Forest: ', recall_iso)"
   ]
  },
  {
   "cell_type": "code",
   "execution_count": 38,
   "id": "3266d963-a572-481a-92e8-37102a83ba41",
   "metadata": {},
   "outputs": [
    {
     "data": {
      "image/png": "[encoded data removed]",
      "text/plain": [
       "<Figure size 1000x600 with 2 Axes>"
      ]
     },
     "metadata": {},
     "output_type": "display_data"
    }
   ],
   "source": [
    "# Visualize the confusion matrix\n",
    "plt.figure(figsize=(10,6))\n",
    "sns.heatmap(conf_matrix_iso, annot=True, fmt='d', cmap='Blues')\n",
    "plt.title('Confusion Matrix for Isolation Forest')\n",
    "plt.xlabel('Predicted')\n",
    "plt.ylabel('Actual')\n",
    "plt.show()"
   ]
  },
  {
   "cell_type": "code",
   "execution_count": 39,
   "id": "b5a22a81-4a23-4a4c-8b29-c38ab5bf9efc",
   "metadata": {},
   "outputs": [
    {
     "data": {
      "image/png": "[encoded data removed]",
      "text/plain": [
       "<Figure size 1000x600 with 2 Axes>"
      ]
     },
     "metadata": {},
     "output_type": "display_data"
    }
   ],
   "source": [
    "# Scatter plot of the first two features\n",
    "plt.figure(figsize=(10,6))\n",
    "plt.scatter(X_test_scaled[:, 0], X_test_scaled[:, 1], c=y_pred_iso, cmap='viridis', marker='o', edgecolor='k', s=50)\n",
    "plt.title('Isolation Forest Results - Scatter Plot of First Two Features')\n",
    "plt.xlabel('Feature 1')\n",
    "plt.ylabel('Feature 2')\n",
    "plt.colorbar(label='Predicted CLass')\n",
    "plt.show()"
   ]
  },
  {
   "cell_type": "markdown",
   "id": "a8a06e2b-f5ba-42b8-8039-9cd9a79eaa87",
   "metadata": {},
   "source": [
    "## Compare Models - KNN v/s Isolation Forest"
   ]
  },
  {
   "cell_type": "code",
   "execution_count": 40,
   "id": "d1220861-c41a-45f9-be79-022e022ddbf7",
   "metadata": {},
   "outputs": [
    {
     "name": "stdout",
     "output_type": "stream",
     "text": [
      "Comparision of Evaluation Metrics:\n",
      "               Model  F1 Score  Precision    Recall\n",
      "0               KNN  1.000000        1.0  1.000000\n",
      "1  Isolation Forest  0.950066        1.0  0.904882\n"
     ]
    }
   ],
   "source": [
    "# Compare Models\n",
    "\n",
    "metrics_comparision = pd.DataFrame({\n",
    "    'Model': ['KNN', 'Isolation Forest'],\n",
    "    'F1 Score': [f1_knn, f1_iso],\n",
    "    'Precision': [precision_knn, precision_iso],\n",
    "    'Recall': [recallscore_knn, recall_iso]\n",
    "})\n",
    "\n",
    "# Display the comparision of the evaluation metrics\n",
    "print('Comparision of Evaluation Metrics:\\n', metrics_comparision)"
   ]
  },
  {
   "cell_type": "code",
   "execution_count": 41,
   "id": "abfb17cc-9f20-49e3-9260-411ba59ebd7c",
   "metadata": {},
   "outputs": [
    {
     "data": {
      "text/plain": [
       "<Figure size 1200x800 with 0 Axes>"
      ]
     },
     "metadata": {},
     "output_type": "display_data"
    },
    {
     "data": {
      "image/png": "[encoded data removed]",
      "text/plain": [
       "<Figure size 1200x800 with 1 Axes>"
      ]
     },
     "metadata": {},
     "output_type": "display_data"
    }
   ],
   "source": [
    "# Visualize the comparision of evalution metrics\n",
    "plt.figure(figsize=(12, 8))\n",
    "metrics_comparision.set_index('Model').plot(kind='bar', figsize=(12, 8))\n",
    "plt.title('COmparision of Evauation Metrics')\n",
    "plt.xlabel('Model')\n",
    "plt.ylabel('Score')\n",
    "plt.xticks(rotation=0)\n",
    "plt.legend(loc='upper right')\n",
    "plt.show()"
   ]
  },
  {
   "cell_type": "code",
   "execution_count": 42,
   "id": "23a95269-9476-41e3-9159-75407a686cab",
   "metadata": {},
   "outputs": [
    {
     "data": {
      "text/plain": [
       "Text(220.72222222222223, 0.5, 'Actual')"
      ]
     },
     "execution_count": 42,
     "metadata": {},
     "output_type": "execute_result"
    },
    {
     "data": {
      "image/png": "[encoded data removed]",
      "text/plain": [
       "<Figure size 2000x800 with 3 Axes>"
      ]
     },
     "metadata": {},
     "output_type": "display_data"
    }
   ],
   "source": [
    "# Visualize the confusion matrices side by side\n",
    "fig, axes = plt.subplots(1, 2, figsize=(20, 8))\n",
    "\n",
    "# Confusion matrix KNN\n",
    "sns.heatmap(conf_matrix_knn, annot=True, fmt='d', cmap='Blues', ax=axes[0])\n",
    "axes[0].set_title('Confusion Matrix for KNN')\n",
    "axes[0].set_xlabel('Predicted')\n",
    "axes[0].set_ylabel('Actual')"
   ]
  },
  {
   "cell_type": "code",
   "execution_count": 43,
   "id": "2d25e603-e4a4-48e4-aca6-af876f8ddc90",
   "metadata": {},
   "outputs": [
    {
     "data": {
      "image/png": "[encoded data removed]",
      "text/plain": [
       "<Figure size 2000x800 with 3 Axes>"
      ]
     },
     "metadata": {},
     "output_type": "display_data"
    }
   ],
   "source": [
    "# Visualize the confusion matrices side by side\n",
    "fig, axes = plt.subplots(1, 2, figsize=(20, 8))\n",
    "\n",
    "# Confusion matrix KNN\n",
    "sns.heatmap(conf_matrix_iso, annot=True, fmt='d', cmap='Blues', ax=axes[0])\n",
    "axes[0].set_title('Confusion Matrix for Isolation Forest')\n",
    "axes[0].set_xlabel('Predicted')\n",
    "axes[0].set_ylabel('Actual')\n",
    "\n",
    "plt.show()"
   ]
  },
  {
   "cell_type": "markdown",
   "id": "f22e32ab-649c-448a-8db1-84190f3bbb85",
   "metadata": {},
   "source": [
    "### Conclusion"
   ]
  },
  {
   "cell_type": "markdown",
   "id": "7abe6239-b304-46bc-9961-628e937b0813",
   "metadata": {},
   "source": [
    "##### as we seen in the above results by comparing both models i.e KNN vs Isolation Forest, we got to know that K-nearest-neighbors perfromed better than Isolation model particularity for the given data set. The detail results of the each model as follows:"
   ]
  },
  {
   "cell_type": "markdown",
   "id": "e760e28e-8bc6-47bf-8573-f8ddadae0aed",
   "metadata": {},
   "source": [
    "#### KNN Model results:"
   ]
  },
  {
   "cell_type": "raw",
   "id": "fd78223c-0aa5-49ba-8af6-99f1d199a528",
   "metadata": {},
   "source": [
    "F1-score: 1.000000\n",
    "Precision: 1.0\n",
    "Recall: 1.000000"
   ]
  },
  {
   "cell_type": "markdown",
   "id": "918693c1-1ee6-4c7a-bdb3-aa752e54412e",
   "metadata": {},
   "source": [
    "#### Isolation Model:"
   ]
  },
  {
   "cell_type": "raw",
   "id": "be064dc0-a68b-482b-92ab-2259108b8c4a",
   "metadata": {},
   "source": [
    "F1-score: 0.950066\n",
    "Precision: 1.0\n",
    "Recall: 0.904882"
   ]
  },
  {
   "cell_type": "markdown",
   "id": "5338550c-b1c9-4fb2-bb70-75635d29f28a",
   "metadata": {},
   "source": [
    "##### as we can observe that KNN model performed better than Ioslation forest model interms of all precision, recall and f1-score. in the same way we can observe Isolation forest model is also performed better and up-to the mark when we observe precision is 100% accurate for the Isolation model but when it comes to f1-score and recall isolation forest failed to detect the some anomalies correctly."
   ]
  }
 ],
 "metadata": {
  "kernelspec": {
   "display_name": "Python 3 (ipykernel)",
   "language": "python",
   "name": "python3"
  },
  "language_info": {
   "codemirror_mode": {
    "name": "ipython",
    "version": 3
   },
   "file_extension": ".py",
   "mimetype": "text/x-python",
   "name": "python",
   "nbconvert_exporter": "python",
   "pygments_lexer": "ipython3",
   "version": "3.13.0"
  }
 },
 "nbformat": 4,
 "nbformat_minor": 5
}
